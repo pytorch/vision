{
  "cells": [
    {
      "cell_type": "markdown",
      "metadata": {},
      "source": [
        "\n# Getting started with transforms v2\n\n<div class=\"alert alert-info\"><h4>Note</h4><p>Try on [Colab](https://colab.research.google.com/github/pytorch/vision/blob/gh-pages/main/_generated_ipynb_notebooks/plot_transforms_getting_started.ipynb)\n    or `go to the end <sphx_glr_download_auto_examples_transforms_plot_transforms_getting_started.py>` to download the full example code.</p></div>\n\nThis example illustrates all of what you need to know to get started with the\nnew :mod:`torchvision.transforms.v2` API. We'll cover simple tasks like\nimage classification, and more advanced ones like object detection /\nsegmentation.\n"
      ]
    },
    {
      "cell_type": "markdown",
      "metadata": {},
      "source": [
        "First, a bit of setup\n\n"
      ]
    },
    {
      "cell_type": "code",
      "execution_count": null,
      "metadata": {
        "collapsed": false
      },
      "outputs": [],
      "source": [
        "from pathlib import Path\nimport torch\nimport matplotlib.pyplot as plt\nplt.rcParams[\"savefig.bbox\"] = 'tight'\n\nfrom torchvision.transforms import v2\nfrom torchvision.io import decode_image\n\ntorch.manual_seed(1)\n\n# If you're trying to run that on Colab, you can download the assets and the\n# helpers from https://github.com/pytorch/vision/tree/main/gallery/\nfrom helpers import plot\nimg = decode_image(str(Path('../assets') / 'astronaut.jpg'))\nprint(f\"{type(img) = }, {img.dtype = }, {img.shape = }\")"
      ]
    },
    {
      "cell_type": "markdown",
      "metadata": {},
      "source": [
        "## The basics\n\nThe Torchvision transforms behave like a regular :class:`torch.nn.Module` (in\nfact, most of them are): instantiate a transform, pass an input, get a\ntransformed output:\n\n"
      ]
    },
    {
      "cell_type": "code",
      "execution_count": null,
      "metadata": {
        "collapsed": false
      },
      "outputs": [],
      "source": [
        "transform = v2.RandomCrop(size=(224, 224))\nout = transform(img)\n\nplot([img, out])"
      ]
    },
    {
      "cell_type": "markdown",
      "metadata": {},
      "source": [
        "## I just want to do image classification\n\nIf you just care about image classification, things are very simple. A basic\nclassification pipeline may look like this:\n\n"
      ]
    },
    {
      "cell_type": "code",
      "execution_count": null,
      "metadata": {
        "collapsed": false
      },
      "outputs": [],
      "source": [
        "transforms = v2.Compose([\n    v2.RandomResizedCrop(size=(224, 224), antialias=True),\n    v2.RandomHorizontalFlip(p=0.5),\n    v2.ToDtype(torch.float32, scale=True),\n    v2.Normalize(mean=[0.485, 0.456, 0.406], std=[0.229, 0.224, 0.225]),\n])\nout = transforms(img)\n\nplot([img, out])"
      ]
    },
    {
      "cell_type": "markdown",
      "metadata": {},
      "source": [
        "Such transformation pipeline is typically passed as the ``transform`` argument\nto the `Datasets <datasets>`, e.g. ``ImageNet(...,\ntransform=transforms)``.\n\nThat's pretty much all there is. From there, read through our `main docs\n<transforms>` to learn more about recommended practices and conventions, or\nexplore more `examples <transforms_gallery>` e.g. how to use augmentation\ntransforms like `CutMix and MixUp\n<sphx_glr_auto_examples_transforms_plot_cutmix_mixup.py>`.\n\n<div class=\"alert alert-info\"><h4>Note</h4><p>If you're already relying on the ``torchvision.transforms`` v1 API,\n    we recommend to `switch to the new v2 transforms<v1_or_v2>`. It's\n    very easy: the v2 transforms are fully compatible with the v1 API, so you\n    only need to change the import!</p></div>\n\n## Videos, boxes, masks, keypoints\n\nThe Torchvision transforms in the ``torchvision.transforms.v2`` namespace\nsupport tasks beyond image classification: they can also transform rotated or\naxis-aligned bounding boxes, segmentation / detection masks, videos, and\nkeypoints.\n\nLet's briefly look at a detection example with bounding boxes.\n\n"
      ]
    },
    {
      "cell_type": "code",
      "execution_count": null,
      "metadata": {
        "collapsed": false
      },
      "outputs": [],
      "source": [
        "from torchvision import tv_tensors  # we'll describe this a bit later, bare with us\n\nboxes = tv_tensors.BoundingBoxes(\n    [\n        [15, 10, 370, 510],\n        [275, 340, 510, 510],\n        [130, 345, 210, 425]\n    ],\n    format=\"XYXY\", canvas_size=img.shape[-2:])\n\ntransforms = v2.Compose([\n    v2.RandomResizedCrop(size=(224, 224), antialias=True),\n    v2.RandomPhotometricDistort(p=1),\n    v2.RandomHorizontalFlip(p=1),\n])\nout_img, out_boxes = transforms(img, boxes)\nprint(type(boxes), type(out_boxes))\n\nplot([(img, boxes), (out_img, out_boxes)])"
      ]
    },
    {
      "cell_type": "markdown",
      "metadata": {},
      "source": [
        "The example above focuses on object detection. But if we had masks\n(:class:`torchvision.tv_tensors.Mask`) for object segmentation or semantic\nsegmentation, or videos (:class:`torchvision.tv_tensors.Video`), we could have\npassed them to the transforms in exactly the same way.\n\nBy now you likely have a few questions: what are these TVTensors, how do we\nuse them, and what is the expected input/output of those transforms? We'll\nanswer these in the next sections.\n\n"
      ]
    },
    {
      "cell_type": "markdown",
      "metadata": {},
      "source": [
        "\n## What are TVTensors?\n\nTVTensors are :class:`torch.Tensor` subclasses. The available TVTensors are\n:class:`~torchvision.tv_tensors.Image`,\n:class:`~torchvision.tv_tensors.BoundingBoxes`,\n:class:`~torchvision.tv_tensors.Mask`,\n:class:`~torchvision.tv_tensors.Video`, and\n:class:`~torchvision.tv_tensors.KeyPoints`.\n\nTVTensors look and feel just like regular tensors - they **are** tensors.\nEverything that is supported on a plain :class:`torch.Tensor` like ``.sum()``\nor any ``torch.*`` operator will also work on a TVTensor:\n\n"
      ]
    },
    {
      "cell_type": "code",
      "execution_count": null,
      "metadata": {
        "collapsed": false
      },
      "outputs": [],
      "source": [
        "img_dp = tv_tensors.Image(torch.randint(0, 256, (3, 256, 256), dtype=torch.uint8))\n\nprint(f\"{isinstance(img_dp, torch.Tensor) = }\")\nprint(f\"{img_dp.dtype = }, {img_dp.shape = }, {img_dp.sum() = }\")"
      ]
    },
    {
      "cell_type": "markdown",
      "metadata": {},
      "source": [
        "These TVTensor classes are at the core of the transforms: in order to\ntransform a given input, the transforms first look at the **class** of the\nobject, and dispatch to the appropriate implementation accordingly.\n\nYou don't need to know much more about TVTensors at this point, but advanced\nusers who want to learn more can refer to\n`sphx_glr_auto_examples_transforms_plot_tv_tensors.py`.\n\n## What do I pass as input?\n\nAbove, we've seen two examples: one where we passed a single image as input\ni.e. ``out = transforms(img)``, and one where we passed both an image and\nbounding boxes, i.e. ``out_img, out_boxes = transforms(img, boxes)``.\n\nIn fact, transforms support **arbitrary input structures**. The input can be a\nsingle image, a tuple, an arbitrarily nested dictionary... pretty much\nanything. The same structure will be returned as output. Below, we use the\nsame detection transforms, but pass a tuple (image, target_dict) as input and\nwe're getting the same structure as output:\n\n"
      ]
    },
    {
      "cell_type": "code",
      "execution_count": null,
      "metadata": {
        "collapsed": false
      },
      "outputs": [],
      "source": [
        "target = {\n    \"boxes\": boxes,\n    \"labels\": torch.arange(boxes.shape[0]),\n    \"this_is_ignored\": (\"arbitrary\", {\"structure\": \"!\"})\n}\n\n# Re-using the transforms and definitions from above.\nout_img, out_target = transforms(img, target)\n\nplot([(img, target[\"boxes\"]), (out_img, out_target[\"boxes\"])])\nprint(f\"{out_target['this_is_ignored']}\")"
      ]
    },
    {
      "cell_type": "markdown",
      "metadata": {},
      "source": [
        "We passed a tuple so we get a tuple back, and the second element is the\ntranformed target dict. Transforms don't really care about the structure of\nthe input; as mentioned above, they only care about the **type** of the\nobjects and transforms them accordingly.\n\n*Foreign* objects like strings or ints are simply passed-through. This can be\nuseful e.g. if you want to associate a path with every single sample when\ndebugging!\n\n\n<div class=\"alert alert-info\"><h4>Note</h4><p>**Disclaimer** This note is slightly advanced and can be safely skipped on\n    a first read.\n\n    Pure :class:`torch.Tensor` objects are, in general, treated as images (or\n    as videos for video-specific transforms). Indeed, you may have noticed\n    that in the code above we haven't used the\n    :class:`~torchvision.tv_tensors.Image` class at all, and yet our images\n    got transformed properly. Transforms follow the following logic to\n    determine whether a pure Tensor should be treated as an image (or video),\n    or just ignored:\n\n    * If there is an :class:`~torchvision.tv_tensors.Image`,\n      :class:`~torchvision.tv_tensors.Video`,\n      or :class:`PIL.Image.Image` instance in the input, all other pure\n      tensors are passed-through.\n    * If there is no :class:`~torchvision.tv_tensors.Image` or\n      :class:`~torchvision.tv_tensors.Video` instance, only the first pure\n      :class:`torch.Tensor` will be transformed as image or video, while all\n      others will be passed-through. Here \"first\" means \"first in a depth-wise\n      traversal\".\n\n    This is what happened in the detection example above: the first pure\n    tensor was the image so it got transformed properly, and all other pure\n    tensor instances like the ``labels`` were passed-through (although labels\n    can still be transformed by some transforms like\n    :class:`~torchvision.transforms.v2.SanitizeBoundingBoxes`!).</p></div>\n\n\n## Transforms and Datasets intercompatibility\n\nRoughly speaking, the output of the datasets must correspond to the input of\nthe transforms. How to do that depends on whether you're using the torchvision\n`built-in datatsets <datasets>`, or your own custom datasets.\n\n### Using built-in datasets\n\nIf you're just doing image classification, you don't need to do anything. Just\nuse ``transform`` argument of the dataset e.g. ``ImageNet(...,\ntransform=transforms)`` and you're good to go.\n\nTorchvision also supports datasets for object detection or segmentation like\n:class:`torchvision.datasets.CocoDetection`. Those datasets predate\nthe existence of the :mod:`torchvision.transforms.v2` module and of the\nTVTensors, so they don't return TVTensors out of the box.\n\nAn easy way to force those datasets to return TVTensors and to make them\ncompatible with v2 transforms is to use the\n:func:`torchvision.datasets.wrap_dataset_for_transforms_v2` function:\n\n```python\nfrom torchvision.datasets import CocoDetection, wrap_dataset_for_transforms_v2\n\ndataset = CocoDetection(..., transforms=my_transforms)\ndataset = wrap_dataset_for_transforms_v2(dataset)\n# Now the dataset returns TVTensors!\n```\n### Using your own datasets\n\nIf you have a custom dataset, then you'll need to convert your objects into\nthe appropriate TVTensor classes. Creating TVTensor instances is very easy,\nrefer to `tv_tensor_creation` for more details.\n\nThere are two main places where you can implement that conversion logic:\n\n- At the end of the datasets's ``__getitem__`` method, before returning the\n  sample (or by sub-classing the dataset).\n- As the very first step of your transforms pipeline\n\nEither way, the logic will depend on your specific dataset.\n\n"
      ]
    }
  ],
  "metadata": {
    "kernelspec": {
      "display_name": "Python 3",
      "language": "python",
      "name": "python3"
    },
    "language_info": {
      "codemirror_mode": {
        "name": "ipython",
        "version": 3
      },
      "file_extension": ".py",
      "mimetype": "text/x-python",
      "name": "python",
      "nbconvert_exporter": "python",
      "pygments_lexer": "ipython3",
      "version": "3.10.18"
    }
  },
  "nbformat": 4,
  "nbformat_minor": 0
}